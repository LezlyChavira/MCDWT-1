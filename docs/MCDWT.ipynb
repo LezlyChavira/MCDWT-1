{
 "cells": [
  {
   "cell_type": "markdown",
   "metadata": {},
   "source": [
    "# Motion Compensated Discrete Wavelet Transform (MCDWT)\n",
    "\n",
    "MCDWT is a [video] decorrelator and [visual] information organizer. The\n",
    "input sequence of pixels_ are [decorrelated] in the [time] and in the\n",
    "[spatial domains]. The output sequence of [coefficients] have a\n",
    "smaller [entropy] than the original pixels, and the information is\n",
    "represented by [resolution levels].\n",
    "\n",
    "Temporal decorrelation is provided by [MC (Motion Compensation)], where the\n",
    "[prediction images] are generated with an algorithm that uses only the\n",
    "information available at the [decoder]. This means that the motion\n",
    "information used in the predictions do not need to be sent to the\n",
    "decoder.\n",
    "\n",
    "Spatial decorrelation is performed by the [analysis filter] used in the\n",
    "2D-DWT_.\n",
    "\n",
    "[video]: https://en.wikipedia.org/wiki/Video\n",
    "[visual]: https://en.wikipedia.org/wiki/Visual_perception\n",
    "[pixels]: https://en.wikipedia.org/wiki/Pixel\n",
    "[decorrelated]: https://en.wikipedia.org/wiki/Decorrelation\n",
    "[time]: https://en.wikipedia.org/wiki/Time_domain\n",
    "[spatial]: https://www.quora.com/What-is-spatial-domain-in-image-processing\n",
    "[coefficients]: https://www.quora.com/What-is-spatial-domain-in-image-processing\n",
    "[entropy]: https://en.wikipedia.org/wiki/Entropy\n",
    "[resolution levels]: https://en.wikipedia.org/wiki/Image_resolution\n",
    "[Motion Compensation]: https://en.wikipedia.org/wiki/Motion_compensation\n",
    "[decoder]: https://en.wikipedia.org/wiki/Decoder\n",
    "[prediction images]: https://en.wikipedia.org/wiki/Decoder\n",
    "[analysis filter]: https://en.wikipedia.org/wiki/Digital_filter#Analysis_techniques\n",
    "[2D-DWT]: https://en.wikipedia.org/wiki/Discrete_wavelet_transform\n",
    "[EBCOT]: http://nptel.ac.in/courses/117105083/pdf/ssg_m5l15.pdf"
   ]
  }
 ],
 "metadata": {
  "kernelspec": {
   "display_name": "Python 3",
   "language": "python",
   "name": "python3"
  }
 },
 "nbformat": 4,
 "nbformat_minor": 2
}
